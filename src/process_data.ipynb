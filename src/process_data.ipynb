{
 "cells": [
  {
   "cell_type": "markdown",
   "metadata": {},
   "source": [
    "# Process Data"
   ]
  },
  {
   "cell_type": "markdown",
   "metadata": {},
   "source": [
    "This script reformats and aggregates the mobile and desktop data in the 'raw_data' folder in order to create the visualizations described in the ReadMe:\n",
    "- calculates the average number of pageviews for each article and access type\n",
    "- calculates the peak number of pageviews for each article and access type\n",
    "- calculates the number of months data was available for\n",
    "- identifies what articles to include for each visualization\n",
    "- creates timeseries data for each visualization, ready to be plotted\n",
    "- saves processed data to 'processed_data' folder"
   ]
  },
  {
   "cell_type": "markdown",
   "metadata": {},
   "source": [
    "## Import Packages"
   ]
  },
  {
   "cell_type": "code",
   "execution_count": 1,
   "metadata": {},
   "outputs": [],
   "source": [
    "import pandas as pd\n",
    "from statistics import mean"
   ]
  },
  {
   "cell_type": "markdown",
   "metadata": {},
   "source": [
    "## Load Data"
   ]
  },
  {
   "cell_type": "code",
   "execution_count": 2,
   "metadata": {},
   "outputs": [],
   "source": [
    "mobile_df = pd.read_json('../raw_data/dino_monthly_mobile_201501-202209.json', orient='index')\n",
    "desktop_df = pd.read_json('../raw_data/dino_monthly_desktop_201501-202209.json', orient='index')"
   ]
  },
  {
   "cell_type": "markdown",
   "metadata": {},
   "source": [
    "setting the orient parameter to 'index' is necessary, because we want the index of the dataframe to be the keys of the dictionary (article titles)"
   ]
  },
  {
   "cell_type": "markdown",
   "metadata": {},
   "source": [
    "## Functions"
   ]
  },
  {
   "cell_type": "markdown",
   "metadata": {},
   "source": [
    "### Function to aggregate pagecounts for an article using a given function."
   ]
  },
  {
   "cell_type": "markdown",
   "metadata": {},
   "source": [
    "Inputs:\n",
    "- article: a list of dictionaries for a specific article\n",
    "    - dictionary keys must include 'views'\n",
    "- func: a function to apply to the viewcounts, must aggregate"
   ]
  },
  {
   "cell_type": "markdown",
   "metadata": {},
   "source": [
    "Output:\n",
    "- a single value of the aggregated viewcount"
   ]
  },
  {
   "cell_type": "code",
   "execution_count": 3,
   "metadata": {},
   "outputs": [],
   "source": [
    "def aggregate_dino(article, func):\n",
    "    temp = []\n",
    "    for month in article:\n",
    "        temp.append(month['views'])\n",
    "    return(func(temp))"
   ]
  },
  {
   "cell_type": "markdown",
   "metadata": {},
   "source": [
    "### Function to turn dictionary data into timeseries"
   ]
  },
  {
   "cell_type": "markdown",
   "metadata": {},
   "source": [
    "Inputs:\n",
    "- article: a list of dictionaries for a specific article\n",
    "    - dictionary keys must include 'views' and 'timestamp'\n",
    "    - timestamp must be in the format YYYYMMDD00\n",
    "- name: a string of what to name the timeseries (for the purpose of labeling in a legend)"
   ]
  },
  {
   "cell_type": "markdown",
   "metadata": {},
   "source": [
    "Output:\n",
    "- a dataframe with the following columns\n",
    "    - month: a datetime object with the month and year of the data\n",
    "    - views: the number of pageviews in that month for the input article\n",
    "    - article: a name for the purpose of labeling in a legend"
   ]
  },
  {
   "cell_type": "code",
   "execution_count": 4,
   "metadata": {},
   "outputs": [],
   "source": [
    "def get_timeseries(article, name):\n",
    "    temp = pd.DataFrame(columns = ['month', 'views'])\n",
    "    for month in article:\n",
    "        temp = temp.append({'month': month['timestamp'], 'views' : month['views']}, ignore_index = True)\n",
    "    temp['month'] = pd.to_datetime(temp['month'], format='%Y%m%d00')\n",
    "    temp['views'] = temp['views'].astype(int)\n",
    "    temp['article'] = name\n",
    "    return(temp)"
   ]
  },
  {
   "cell_type": "markdown",
   "metadata": {},
   "source": [
    "### Function to create timeseries data for a subset of articles"
   ]
  },
  {
   "cell_type": "markdown",
   "metadata": {},
   "source": [
    "Inputs:\n",
    "- filt_mobile: a filtered list of article names for the mobile access type\n",
    "- filt_mobile: a filtered list of article names for the desktop access type"
   ]
  },
  {
   "cell_type": "markdown",
   "metadata": {},
   "source": [
    "Output:\n",
    "- a dataframe with the following columns\n",
    "    - month: a datetime object with the month and year of the data\n",
    "    - views: the number of pageviews in that month for the input article\n",
    "    - article: the name of the article\n",
    "    - access_type: the access type (mobile or desktop)"
   ]
  },
  {
   "cell_type": "code",
   "execution_count": 5,
   "metadata": {},
   "outputs": [],
   "source": [
    "def combine_timeseries(filt_mobile, filt_desktop):\n",
    "    df = pd.DataFrame()\n",
    "    for article in filt_mobile:\n",
    "        temp = get_timeseries(mobile_df.loc[article]['items'], article)\n",
    "        temp['access_type'] = 'mobile'\n",
    "        df = pd.concat([df, temp])\n",
    "    for article in filt_desktop:\n",
    "        temp = get_timeseries(desktop_df.loc[article]['items'], article)\n",
    "        temp['access_type'] = 'desktop'\n",
    "        df = pd.concat([df, temp])\n",
    "    return(df)"
   ]
  },
  {
   "cell_type": "markdown",
   "metadata": {},
   "source": [
    "## Process Data"
   ]
  },
  {
   "cell_type": "markdown",
   "metadata": {},
   "source": [
    "### Aggregate data"
   ]
  },
  {
   "cell_type": "markdown",
   "metadata": {},
   "source": [
    "get average viewcount for each article and each access type"
   ]
  },
  {
   "cell_type": "code",
   "execution_count": 6,
   "metadata": {},
   "outputs": [],
   "source": [
    "mobile_df['mean'] = mobile_df['items'].apply(aggregate_dino, args=(mean,))\n",
    "desktop_df['mean'] = desktop_df['items'].apply(aggregate_dino, args=(mean,))"
   ]
  },
  {
   "cell_type": "markdown",
   "metadata": {},
   "source": [
    "get highest viewcount in a single month for each article and each access type"
   ]
  },
  {
   "cell_type": "code",
   "execution_count": 7,
   "metadata": {},
   "outputs": [],
   "source": [
    "mobile_df['peak'] = mobile_df['items'].apply(aggregate_dino, args=(max,))\n",
    "desktop_df['peak'] = desktop_df['items'].apply(aggregate_dino, args=(max,))"
   ]
  },
  {
   "cell_type": "markdown",
   "metadata": {},
   "source": [
    "get the number of months there was data available for each article and each access type"
   ]
  },
  {
   "cell_type": "code",
   "execution_count": 8,
   "metadata": {},
   "outputs": [],
   "source": [
    "mobile_df['num_months'] = mobile_df['items'].apply(len)\n",
    "desktop_df['num_months'] = desktop_df['items'].apply(len)"
   ]
  },
  {
   "cell_type": "markdown",
   "metadata": {},
   "source": [
    "### Identify relevant data for visualizations"
   ]
  },
  {
   "cell_type": "markdown",
   "metadata": {},
   "source": [
    "identify articles with the smallest and largest average viewcount for each access type"
   ]
  },
  {
   "cell_type": "code",
   "execution_count": 9,
   "metadata": {},
   "outputs": [],
   "source": [
    "mobile_min = mobile_df['mean'].idxmin()\n",
    "mobile_max = mobile_df['mean'].idxmax()\n",
    "desktop_min = desktop_df['mean'].idxmin()\n",
    "desktop_max = desktop_df['mean'].idxmax()"
   ]
  },
  {
   "cell_type": "markdown",
   "metadata": {},
   "source": [
    "identify articles within the top 10 highest viewcount in a single month for each access type"
   ]
  },
  {
   "cell_type": "code",
   "execution_count": 10,
   "metadata": {},
   "outputs": [],
   "source": [
    "peak_mobile = mobile_df.nlargest(10, 'peak').index\n",
    "peak_desktop = desktop_df.nlargest(10, 'peak').index"
   ]
  },
  {
   "cell_type": "markdown",
   "metadata": {},
   "source": [
    "identify the 10 articles with the fewest months of available data for each access type"
   ]
  },
  {
   "cell_type": "code",
   "execution_count": 11,
   "metadata": {},
   "outputs": [],
   "source": [
    "newest_mobile = mobile_df.nsmallest(10, 'num_months').index\n",
    "newest_desktop = desktop_df.nsmallest(10, 'num_months').index"
   ]
  },
  {
   "cell_type": "markdown",
   "metadata": {},
   "source": [
    "### Create timeseries data"
   ]
  },
  {
   "cell_type": "markdown",
   "metadata": {},
   "source": [
    "create and consolidate timeseries data for articles with the smallest and largest average viewcount for each access type"
   ]
  },
  {
   "cell_type": "code",
   "execution_count": 17,
   "metadata": {},
   "outputs": [],
   "source": [
    "mobile_min_df = get_timeseries(mobile_df.loc[mobile_min]['items'], mobile_min + ' - mobile min')\n",
    "mobile_max_df = get_timeseries(mobile_df.loc[mobile_max]['items'], mobile_max + ' - mobile max')\n",
    "desktop_min_df = get_timeseries(desktop_df.loc[desktop_min]['items'], desktop_min + ' - desktop min')\n",
    "desktop_max_df = get_timeseries(desktop_df.loc[desktop_max]['items'], desktop_max + ' - desktop max')\n",
    "mean_df = pd.concat([mobile_min_df, mobile_max_df, desktop_min_df, desktop_max_df])"
   ]
  },
  {
   "cell_type": "markdown",
   "metadata": {},
   "source": [
    "create and consolidate timeseries data for articles within the top 10 highest viewcount in a single month for each access type"
   ]
  },
  {
   "cell_type": "code",
   "execution_count": 13,
   "metadata": {},
   "outputs": [],
   "source": [
    "peak_df = combine_timeseries(peak_mobile, peak_desktop)"
   ]
  },
  {
   "cell_type": "markdown",
   "metadata": {},
   "source": [
    "create and consolidate timeseries data for articles with the fewest months of available data for each access type"
   ]
  },
  {
   "cell_type": "code",
   "execution_count": 14,
   "metadata": {},
   "outputs": [],
   "source": [
    "newest_df = combine_timeseries(newest_mobile, newest_desktop)"
   ]
  },
  {
   "cell_type": "markdown",
   "metadata": {},
   "source": [
    "### Save data"
   ]
  },
  {
   "cell_type": "code",
   "execution_count": 18,
   "metadata": {},
   "outputs": [],
   "source": [
    "mean_df.to_csv('../processed_data/average_viewcount.csv', index=False)\n",
    "peak_df.to_csv('../processed_data/peak_viewcount.csv', index=False)\n",
    "newest_df.to_csv('../processed_data/fewest_months_viewcount.csv', index=False)"
   ]
  },
  {
   "cell_type": "code",
   "execution_count": null,
   "metadata": {},
   "outputs": [],
   "source": []
  }
 ],
 "metadata": {
  "kernelspec": {
   "display_name": "Python 3",
   "language": "python",
   "name": "python3"
  },
  "language_info": {
   "codemirror_mode": {
    "name": "ipython",
    "version": 3
   },
   "file_extension": ".py",
   "mimetype": "text/x-python",
   "name": "python",
   "nbconvert_exporter": "python",
   "pygments_lexer": "ipython3",
   "version": "3.8.5"
  }
 },
 "nbformat": 4,
 "nbformat_minor": 4
}
